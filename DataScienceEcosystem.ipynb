{
 "cells": [
  {
   "cell_type": "markdown",
   "id": "f7f52000-c837-47da-87d1-e0670523f1f5",
   "metadata": {},
   "source": [
    "# Data Science Tools and Ecosystem"
   ]
  },
  {
   "cell_type": "markdown",
   "id": "354766c5-5138-4696-ba9f-4759be9b7456",
   "metadata": {},
   "source": [
    "## Author\n",
    "Rafik Milad Fayez Hakim"
   ]
  },
  {
   "cell_type": "markdown",
   "id": "0cec8cca-b4d9-40ea-92b5-dbdd4999d593",
   "metadata": {},
   "source": [
    "In this notebook, Data Science Tools and Ecosystem are summarized."
   ]
  },
  {
   "cell_type": "markdown",
   "id": "834ff52c-58a6-4ad8-9b08-ddc27cea1b11",
   "metadata": {},
   "source": [
    "<b>Objectives:</b>\n",
    "<ul>\n",
    "<li>List popular languages for Data Science</li>\n",
    "<li>List commonly used libraries used by Data Science</li>\n",
    "<li>List few examples of evaluating arithmetic expressions in Python</li>\n",
    "</ul>"
   ]
  },
  {
   "cell_type": "markdown",
   "id": "122d54ad-1597-472c-936b-d5d1aef24ba1",
   "metadata": {},
   "source": [
    "Some of the popular languages that Data Scientists use are:\n",
    "<ol>\n",
    "<li>Python</li>\n",
    "<li>R</li>\n",
    "<li>SQL</li>\n",
    "</ol>"
   ]
  },
  {
   "cell_type": "markdown",
   "id": "5f34a0bb-432a-4042-ae1a-9e323ba03ec6",
   "metadata": {},
   "source": [
    "Some of the commonly used libraries used by Data Scientists include:\n",
    "<ol>\n",
    "<li>Numpy</li>\n",
    "<li>Pandas</li>\n",
    "<li>Matplotlib</li>\n",
    "<li>Scikit-learn</li>\n",
    "</ol>"
   ]
  },
  {
   "cell_type": "markdown",
   "id": "13d76eb2-2495-4b83-a8f1-270123f634e9",
   "metadata": {},
   "source": [
    "<table>\n",
    "<tr>\n",
    "<th>Data Science Tools</Data></th>\n",
    "</tr>\n",
    "<tr>\n",
    "<td>Jupyter Notebook</td>\n",
    "</tr>\n",
    "<tr>\n",
    "<td>RStudio</td>\n",
    "</tr>\n",
    "<tr>\n",
    "<td>VS Code</td>\n",
    "</tr>\n",
    "</table> "
   ]
  },
  {
   "cell_type": "markdown",
   "id": "314da105-9d6c-4251-b7e5-5c58c1fa15b8",
   "metadata": {},
   "source": [
    "### Below are a few examples of evaluating arithmetic expressions in Python"
   ]
  },
  {
   "cell_type": "code",
   "execution_count": 7,
   "id": "0428a333-99b0-45f8-b0c6-d8ba15a18186",
   "metadata": {},
   "outputs": [
    {
     "data": {
      "text/plain": [
       "17"
      ]
     },
     "execution_count": 7,
     "metadata": {},
     "output_type": "execute_result"
    }
   ],
   "source": [
    "# This a simple arithmetic expression to multiply then add integers\n",
    "\n",
    "(3*4)+5"
   ]
  },
  {
   "cell_type": "code",
   "execution_count": 8,
   "id": "937428d7-246b-402a-9862-0ac862ddd1ec",
   "metadata": {},
   "outputs": [
    {
     "data": {
      "text/plain": [
       "3.3333333333333335"
      ]
     },
     "execution_count": 8,
     "metadata": {},
     "output_type": "execute_result"
    }
   ],
   "source": [
    "# This will convert 200 minutes to hours by diving by 60\n",
    "\n",
    "200/60"
   ]
  },
  {
   "cell_type": "code",
   "execution_count": null,
   "id": "065d4b67-c372-4402-bd90-dbfa25223a27",
   "metadata": {},
   "outputs": [],
   "source": []
  }
 ],
 "metadata": {
  "kernelspec": {
   "display_name": "Python 3 (ipykernel)",
   "language": "python",
   "name": "python3"
  },
  "language_info": {
   "codemirror_mode": {
    "name": "ipython",
    "version": 3
   },
   "file_extension": ".py",
   "mimetype": "text/x-python",
   "name": "python",
   "nbconvert_exporter": "python",
   "pygments_lexer": "ipython3",
   "version": "3.12.8"
  }
 },
 "nbformat": 4,
 "nbformat_minor": 5
}
